{
 "cells": [
  {
   "cell_type": "markdown",
   "metadata": {},
   "source": [
    "# At the beginning there was the data\n",
    "\n",
    "In NLP, everything begins with text, and it is important to have a good understanding of the data before starting to work on the code. When an algorithm returns output you did not expect, chances are there is something you did not know about the data that is violating some of your assumptions (for instance, you are working with a collection of movie reviews and some of them turn out to be about books).\n",
    "\n",
    "This parallels the often-cited advice for programmers: do not start writing code before you understand the problem you are trying to solve. The same applies to the data: do not start writing the code until you know the data.\n",
    "\n",
    "So, let's first get our hands on some data. During this course, we will be working with a few different datasets.\n",
    "\n",
    "## Raw text\n",
    "First, we will need some large amount of random raw text in order to feed a few relatively stupid processes and a few smarter ones.\n",
    "\n",
    "This corpus should be big. Ideally, as big as possible. However, there are practical (mostly memory) limitations and, for this course, we will be working with data sizes that can be crunched on a standard laptop. That means **no Big Data** as such (nothing that can fit on a laptop is big data :), just some toy, pocket-size data to prove the point.\n",
    "\n",
    "We will need a Python class to easily stream text into our algorithm. When possible, we will use a generator (using the __yield__ keyword instead of returning a __list__) to avoid having to store all the records in memory and process them one by one instead (when possible, it is always more efficient). Here's the streamer:"
   ]
  },
  {
   "cell_type": "code",
   "execution_count": 10,
   "metadata": {
    "collapsed": false
   },
   "outputs": [],
   "source": [
    "from lib.Tools import (\n",
    "    decode as d,           # Auxiliary method to decode UTF-8 (when reading from a file)\n",
    "    encode as e            # Auxiliary method to encode UTF-8 (when writing to a file or stdout)\n",
    ")\n",
    "\n",
    "class TextStreamer:\n",
    "    \n",
    "    def __init__(self, source, parser=None):\n",
    "        self.source = source\n",
    "        if parser:\n",
    "            self.parser = parser(self.source)\n",
    "        else:\n",
    "            self.parser = None\n",
    "\n",
    "    def __iter__(self):\n",
    "        if not self.parser:\n",
    "            with open(self.source, 'rb') as rd:\n",
    "                for line in rd:\n",
    "                    if not line.strip():\n",
    "                        continue\n",
    "                    yield d(line)\n",
    "        else:\n",
    "            for parsed in self.parser:\n",
    "                yield d(parsed)"
   ]
  },
  {
   "cell_type": "markdown",
   "metadata": {},
   "source": [
    "Let's make sure it works. Let's create a __Streamer__ instance, passing it a path as the argument for its constructor, and see if we get anything out of it:"
   ]
  },
  {
   "cell_type": "code",
   "execution_count": 11,
   "metadata": {
    "collapsed": false
   },
   "outputs": [
    {
     "name": "stdout",
     "output_type": "stream",
     "text": [
      "1 A  bus  looms  out  of  the grey and blizzardy  conditions  and  we  get  on gratefully.  Then a very lengthy episode of bus and local railway gets us to the residence of Q-Funk's current squeeze, whom we met briefly at the party.\n",
      "\n",
      "2 We  go back into the city centre,  this time on a search for pizza.  This is duly  found,  in a neat bar-cafe not too far from Rax's,  the domain of 'Eat until you explode'.  Q-Funk is a regular there,  and the bar person seems to know him well.  What is given to us foodwise, is plenty to be going on with.\n",
      "\n",
      "3 The  next  vital  and necessary step,  is to secure some  inportant  alcohol supplies for the after-party,  and it is to the 'Alko' booze shoppe, that we adjourn  to  next.  We spend an enjoyable fifteen or so minutes mulling  the many  choices  over.  Felice  opts for a bottle of fine old red wine,  I  am caught  in  a dilemma over several different varieties of  flavoured  vodka, choosing a big bottle for public enjoyment,  and a smaller bottle for my own abuse!  We pay for our liquor, carefully averting the distainful gaze of the cashier,  who  no  doubt  has had state-sponsored  training,  with  periodic refresher  courses,  in  the  art  of  looking down  on  people  who  choose intoxicating liquids for pleasure.\n",
      "\n",
      "4 A  bus ride gets us to the spot where we came upon Jeff Minter and  visiting party last year,  and we head,  bottles clinking, firstly to the place where the Reservoir Gods refused to bow down and worship the sauna after the third Alt Party.  This turns out to be the wrong venue,  so we head on over to the scene  of  last year's Yak-baptism of steam,  which happens to be the  right location for this year's shindig.\n",
      "\n",
      "5 Other people gradually start to arrive,  the sauna is warming up,  a big log fire  crackles  invitingly in the fireplace nearby.  Another stout  Atarian, Baggio,  has  opted  to  stay around for this afterparty,  which was a  good decision  on  his part.  Setok turns up briefly,  and disappears again for a time, the better to catch some more sleep, other recognisable faces, such as Twilighte, Partycle, and Wiztom all turn up before too long too.\n",
      "\n",
      "6 The  whole sauna thing goes on for quite a while,  a lot longer even than at the previous after-parties. The action transfers to the smaller wood burning sauna.  I was one of the first in there, whilst it was still getting to full temperature.  It  was  a very nice sauna,  especially when the steam was up.\n",
      "\n",
      "7 Quite a bit later, some people fell off the pace. Twilighte was one such, as he  crashed  for a couple of hours near the end of the  party.  Some  people resorted  to a Playstation dance-mat game for crazed entertainment.  The log fire  roared on,  the drink was gradually searched out and drunk.  I seem to remember  carrying out a search of the kitchen area with  someone,  possibly Wiztom,  and  carrying on a loud conversation like something out of the  Viz Comic \"Drunk Bakers\" strip.\n",
      "\n",
      "8 A  bit  later  still and some people get an attack  of  the  munchies.  This entails  eating anything to hand...  There was a nice open fire,  which some people  were in danger of falling into,  but there was no reindeer stew,  or barbeque sausages organised. The snacks and crisps supplied had long gone by then.  I  do  remember  getting my hands on a small microwave  pizza,  which tasted fantastic in the booze-fuddled and hunger-sharpened conditions.\n",
      "\n",
      "9 Eventually,  at around 06.00, the party is beginning to run down. Everything fun  or  useful has been done,  and everything consumable has run dry.  I am starting to feel more than a little sleepy myself.  There is something of an en-masse  departure for early buses,  as the bleary-eyed crowd staggers into the new day..\n",
      "\n",
      "10 It  is late afternoon before we have pulled ourselves together properly,  to be  able to get away to town.  Q-Funk's room-mate is very helpful with a big supply of fresh hot coffee on tap, but he has to leave as well.\n",
      "\n",
      "11 We get to Molly's first,  order drinks, and find out that a lot of our first choices aren't actually available, for one reason or another, try again, and again, until we all have something we're reasonably happy with, then proceed to  find a spot in the far corner that can accomodate us,  and the rest when they turn up.   Baggio,  Partycle,  Wiztom all arrive soon after. We spend a considerable dollop of time at Mollys, at least getting another drink or two there.\n",
      "\n",
      "12 As  the midnight hour approaches,  Mollys is getting very crowded,  awaiting the  climax of the live music,  but we bid farewell to our new friends,  and start back home, as we have a bit of an early start for the flight home.\n",
      "\n",
      "13 There  is  not a lot more to add,  we are well-served by the  various  buses going  from Q-Funk's to the airport,  the latter service being the luxurious direct shuttlebus connection.  It is still very dark out,  as we glimpse the rush hour traffic building up but going the other way into town.\n",
      "\n",
      "14 The  flight  back is a weary action-replay of the flight over,  and all  too soon,  we  are back in time-adjusted to GMT Britain.  Stanstead proved to be easy to negotiate, and we reacquaint ourselves with Felice's car, driving on the correct side of the road, and so on.\n",
      "\n",
      "15 One  little surprise was brought back with us,  no,  not Nosfe springing out from  the  aircraft undercarriage well screaming \"Fire in  your  heart!\"  in Finnish, but an increasingly Suomi-style snowfall, which got more intense as the journey back to Felice's wore on. I pause for a short time at his place, in  order to deposit the Alt-travelled Falcon with him,  and take up my  car keys for part II of the journey back.\n",
      "\n",
      "16 Now  the snowfall is really looking serious,  and by the time I get back  to the  Northampton traffic mix,  I have more to fear from the stumbling idiots failing  to  cope with the wet and slippery conditions than I  ever  did  in Helsinki. I do get home in one piece though, and gratefully collapse, before logging  on to check out all the lovely spam that has silted up  my  mailbox while I've been away.\n",
      "\n",
      "17 The  view in some quarters was,  that perhaps some of the competitions  were perhaps  a  bit too alternate?  The main demo competition suffered  from  an interesting idea,  which turned out to be not so great when people attempted to put it into practice.\n",
      "\n",
      "18 We  also  have to sadly note a certain number of missing  people  from  this year's  party.  The  big man Teque briefly arrived at the party,  but wasn't seen by many people. Pahartik didn't make it at all, and also on the list of the missing, was Oric killer Dbug, who couldn't make it either.\n",
      "\n",
      "19 The party atmosphere felt a bit more self-contained and parochial in  places this time around. There seems to be a confusion over wanting to attract more international visitors,  but there was a feeling that Alt could equally turn inward  into a very local event,  with little to appeal to outsiders.  There was  a  tendency  for the organisers and their friends to be  a  little  bit cliquey  and  self-indulgent in some ways.  Is it possible  we could all  be running  out of sharpness and excitement and stumbling into a well worn  rut of  routine  now?  Maybe  we  were  feeling  the  acute  lack  of  something Minteresque, to act as a sharp poke in the eye of complacency?\n",
      "\n",
      "20 On  a personal note,  it was great to get the second Dildo Fatwa  production out of the door,  and onto the big screen. Even if it didn't get anywhere in the  competition,  we  did seem to wake up those parts of the audience  sent comatose  by  some of the previous entries.   Maybe some people  capable  of making  proper  demos on Atari might be more motivated to challenge  at  the next Alt Party?\n",
      "\n",
      "21 Before we get started,  there's no realtime article.  Nothing scribbled down in  the  heat  of the moment on hand towels,  and nothing tapped  into  some ancient  computer that we carried with us through the sceptical  customs  of various European nations. Instead, feeling a bit lower profile than usual, I opted  for  the  revolutionary method of relying entirely on  my  memory  to recall events from the party and afterwards.\n",
      "\n",
      "22 Now  if I had known in advance how much of my brain function at Alt Inc  was going to be impaired by lack of sleep and alcohol, I think I may have made a bit of room in my baggage for some papyrus scrolls after all...\n",
      "\n",
      "23 Felice promises a 02.00hrs arrival time at my door, and manages to keep this unholy  appointment.  The  reason for this nocturnal keenness is due  to  an earlier  than usual departure from Birmingham airport at around  06.00.  The car  journey passes without traffic or incident,  and we arrive at the  off- site  airport car parking in plenty of time.  There is a sizeable period  of sitting  around in the cold,  whilst another family try to load on  assorted pedal  cycles and ski-ing stuff,  which they are taking on their flight with them.\n",
      "\n",
      "24 Birmingham airport at 05.00hrs is very much closed,  but we manage to find a barely open eaterie and score some much needed caffeine.  The remaining time to  departure drips away slowly,  and more and more people start to fill  up the waiting area. Then our flight is called.\n",
      "\n",
      "25 We are going across,  courtesy of KLM Royal Dutch airlines,  in the complete absence of any cheap and direct operators going to Helsinki.  This keeps the cost  reasonable,  but  it does extend the journey time to include  a  whole other airport. So off we go...\n",
      "\n",
      "26 The  huge and glossy Schiphol Amsterdam airport,  manages to make Birmingham look  small and cottagy in comparison.  It is full of smart shops,  and even smarter people browsing in them, and then there we are, to bring the tone of the place right down..  Some more time is killed, then it is time to proceed to the second instalment of our Alt Inc bleary eye special trip.\n",
      "\n",
      "27 Time drags by, and we eventually take our place at the counter of woe. After supplying  the helpful person with *hopefully* accurate descriptions of  our baggage, and with a *hopefully* not too mangled pronunciation of the address for Gloria,  the party venue,  we leave,  about a couple of hours later than planned.\n",
      "\n",
      "28 The first order of business is to get to downtown Helsinki,  to meet up with the never too far away Q-Funk. We have opted for the comfort of the upstairs Pullman bar in the central railway station.  Q-Funk and more caffeine arrive promptly. We update on each other's movements, wait for Pahartik who doesn't arrive,  and  head  our  separate ways,  as Q-Funk not going to this  year's party. The walk to Gloria from the centre of town is made somewhat easier by the lack of bags, especially compared to last year's arm-stretcher marathon.\n",
      "\n",
      "29 Also missing,  is the white powdery stuff cocai-erm no,  Snow...  We seem to have  hit  Helsinki going through a mild spell,  their definition of  \"mild\" being anything above freezing,  so very little of the white stuff was on the ground  this  time.  We will return to the theme of 'missing' things in  due course.\n",
      "\n",
      "30 We arrive at Gloria,  Setok and the delicious Marycloud in attendance at the infodesk.  The organisers are all dressed for the 'Alt Inc' theme, including some people (hi Lobotomy!) who perhaps should stay away from business  suits ;-) Pleasantries,  baggage tales,  and money are soon exchanged, and we take our places upstairs. By happy chance, Pahartik and Ian Smith have managed to take  up our usual places on the left hand side of the upper gallery.  It is not  too hard to join in with them.  Felice's laptop did survive the luggage losing  debacle,  and  he  attempts to set up on the wireless  network  with intermittent success.\n",
      "\n",
      "31 There  is  not too much going on yet,  something is being set up  on  stage, ready for the Friday night live music section.  Nearby, another UK'er who is becoming well known to us,  Twilighte,  is doing his thing with a very small and petite laptop, designed for very small and ladylike laps quite possibly?\n",
      "\n",
      "32 One of the things that I do,  in this early evening period,  is to check out the  'business  class' facilities.  For an extra 15 euro's,  you can now get access  to the organisers backstage area.  A quick exploration reveals a new set of rooms, including a kitchen area, shower, storage areas 'borrowed' for organisers  beds,  and  a useful bathroom/utility room.  Apart from corridor space,  there  isn't much extra space for sleeping,  but there is a bit more noise  protection  from  the  party racket.  However with a  total  lack  of sleeping equipment, the floor space does not look at all appealing...\n",
      "\n",
      "33 After  managing  to pick up plentiful overnight snackfood  supplies  at  the corner  shop,  it  is back to Gloria.  The party proper has kicked off,  and there  are  more  people around than the rather quiet setting  that  we  saw previously.  Friday  night is the traditional time for various live acts  of variable quality, and we note with some trepidation, that the first of these is setting up on the stage area.\n",
      "\n",
      "34 It seems at first that the usual pattern of a bunch of guys noodling  around aimlessly  with a load of gear on stage is going to happen on schedule.  But suddenly, and without warning, something very much like a tune bursts out of the speakers!  And this is not a momentary aberration either, as it seems to keep on going that way...  This lasts a fair while,  and what follows proves even more interesting.  This is the 'David Hasselhoff Big Band',  and whilst the  uneasy  pre-gig  tuning-up  takes place,  we are put in  mind  of  such \"comedy\" acts as Setok's own group 'Die Rebels'.  Clearly something not very good is going to take place?\n",
      "\n",
      "35 Knightrider  theme  tune,  they go on with lots of lovely parodies.  A large part  of  the  action also takes place on a big screen to the  side  of  the screen.  For  example,  an old style demo 'greets' scroller plays on screen, whilst the band do a 'live' version of a protracker style tune. The scroller keeps telling Nosfe to shave his beard.  There is also a live performance of the \"Popular demo\" music, a landmark PeeCee demo, with the demo itself being shown onscreen.\n",
      "\n",
      "36 And  so we turn to the question of missing people and missing  stuff.  There was  quite  a bit from previous Alt parties,  that didn't make it here  this time.  We've already mentioned Q-Funk.  He didn't feel like taking part this time.  Other regular attendees were missing. There wasn't really any Atarian presence this time,  as both Baggio and NerVe were absent. There wasn't even much in the way of Aggression attendence, as the only one I saw much of, was Wiztom, and he tended to hide away in one of the side galleries. On the plus side,  we  did  get the return of Pahartik, missing from last year,  and the continued presence of Ian Smith and Twilighte, to name but two.\n",
      "\n",
      "37 The  computer inventory for Alt Inc confirmed the depressing downward  trend for  the  retro machines.  There was one group at the back of the hall,  who made a determined effort with various MSX and Commodore machines, and a huge chunk  of some old mini-computer dragged into the hall.  They even had their own  projector  screen  to  play games on at the back  as  well.  The  usual suspects,  such as the souped up 16-bit C64, and the Vectrex were there too, but  not doing a great deal.  Apart from that,  there was a preponderance of laptops again, people getting to hate carrying lots of stuff around perhaps?\n",
      "\n",
      "38 To the side,  the Deejay on the FPU stage fills in where the live acts leave off. For a while we've been getting a medley of C64 hits and remixes, but as the hour wears on for rather late, this changes to a selection of very heavy metal.  At  some  stage, Ian Smith leaves us to stay with his uncle,  and we adjourn  to  the  only  really confortable spot in Gloria,  a  sofa  by  the organisers infodesk.\n",
      "\n",
      "39 Spectrum game with the phrase \"Now this was before you were born...\" We  got into  a  discussion over different soundchips for old  computers  and  sound replay  techniques.  I'm  pretty sure that an Oric chiptracker got in  there somehow.  Our aimiable drunk,  attempted to sober up, but ended up under the influence of way too many cups of coffee instead. After spilling the last of these  dangerously  close  to Twilighte's laptop,  he headed off to  try  to sleep, but kept on coming back as a coffee-animated twitching zombie...\n",
      "\n",
      "40 Around 5.30am, I wander back to the infodesk sofa, and Felice has taken this over  completely and is sensibly asleep.  I end up at the quietened and dark FPU stage area,  now thankfully DJ-less.  This has some very slightly padded benches at each side and I settle on one of those.\n",
      "\n",
      "41 I'm pretty sure some more McFood got in the early afternoon at one point.  I think that the sleeplessness was starting to bite?  It goes a bit hazy until we're  back in the upper gallery and watching a selection of Vic  20  demos.\n",
      "\n",
      "42 Warrior, and the slightly later 'Robotic Liberation'. There are a whole load more,  including  some  convincing  multi-parters.  Yes,  we now have  bendy rasters, full DHS-style tunnels, and Comanche-style voxel landscapes for the base model Vic 20. There was even one demo which claimed to not run properly in  emulators,  as it used new soundchip noisemaking techniques in making  a deeper sort of sound.\n",
      "\n",
      "43 In the early evening period,  Felice,  Pahartik,  and I sally forth into the outdoor Helsinki ambience, in a pre-arranged meet with Q-Funk. The aim is to get some food,  and a group decision is made to goto pizza..  This turns out rather a good one, a Baggio family size and crisply cooked and all.\n",
      "\n",
      "44 Indeed,  it is the Saturday evening, the time of the big competitions. We've already had,  and missed a couple of the music related compo's,  but all the big audio-visual ones are still to come. There was also another \"handicraft\"\n",
      "\n",
      "45 We actually get back to our seats whilst the first of the presentation compo entries is running.  This is courtesy of 'Numedia Cyclops',  and it strongly suggests that the whole human race thing is poor quality and overdue a cull.\n",
      "\n",
      "46 After a little break,  we are into the second competition,  the music videos compo.  Recollection  of this tends to suffer from more greying out from me, although there was a brilliant parody of the Louis Armstrong classic \"It's a wonderful  world\",  which  took a particularly Finnish alcoholic  tramps-eye view of the subject!  Meanwhile,  off to the side, the masturbatory style of the FPU stage Deejay is competing heavily with the competition entries,  and threatens to overtake the main hall volume level at one point.  Then someone discovers how to shut the side door...\n",
      "\n",
      "47 Maybe that was a bit hasty as they don't seem to be moving for a while,  but he  eventually  gets  up,  and  is  dragged clear.  In a rare  move  by  the organisers, this person is subsequently evicted from the party.\n",
      "\n",
      "48 Sleeping  comes easily,  and I get as far as 10.00hrs before I even start to contemplate  a slow waking up process.  It is a logical step to get my stuff packed away, ready for the eventual departure. Some food remnants and coffee are the next order of the day.\n",
      "\n",
      "49 In the first floor bar area, behind the gallery, there is a dude with a home made  musical  instrument.  It is keyboard based,  but most of the keys have been cut away to leave just a few. There are lots of switches and toggles, a microphone, a drum sequencer, and a CD-player, which you can scratch-mix, as if  it  were  a vinyl disk.  There is even some kind of soundchip  thing  in there,  so  the  combination  of sounds you can get from it  is  practically limitless. There is a demonstration going on, but this gets sort of chaotic, as too many people try to join in with the multimixer session.\n",
      "\n",
      "50 Finnish residency hassles by marrying someone.  And no, it wasn't a scam. We are going back to the current residence,  which was that of his wife.  After we  get back,  not too much happens that evening,  apart from a trip out for some  very  overdue food.  We wind up at a shopping mall a couple  of  miles distant,  (by bus,  in case you were wondering about possible damage to shoe leather)  There  is a good choice of food,  and we eat at a  Mexican  themed restaurant, with Russian menus.. After that, not much else to report for the Sunday evening, and we are in our inflatable beds by 23.30..\n",
      "\n"
     ]
    }
   ],
   "source": [
    "path = '/Users/jordi/Laboratorio/corpora/raw/umbc/webbase_all/delorme.com_shu.pages_89.txt'\n",
    "strr = TextStreamer(path)\n",
    "i = 0\n",
    "for record in strr:\n",
    "    i += 1\n",
    "    print i, record\n",
    "    if i == 50:\n",
    "        break"
   ]
  },
  {
   "cell_type": "markdown",
   "metadata": {},
   "source": [
    "That looks great :) We now have text we can use for our experiments. In a few minutes we will start doing some much more interesting stuff with it.\n",
    "\n",
    "Before that, though, let's take a look at another type of dataset we will be using. For some of the experiments, we will need labeled datasets such as the ones we described for semi-supervised tasks. In those cases, the streamer should allow us to iterate not only over the text records but also over the labels assigned to those records, __correlatively__.\n",
    "\n",
    "Luckily, there is a very well-known NLP library for Python called NLTK (Natural Language Tool-Kit, you can check it out [here](http://www.nltk.org)) that can help us with that (and many other things :) NLTK comes with a built-in class for working with corpora. It also comes with a few datasets of its own, too.\n",
    "\n",
    "One of them is the [Reuters corpus](http://about.reuters.com/researchandstandards/corpus/), a dataset where we have a collection of documents tagged with the topics they are about. Let's take a quick look:"
   ]
  },
  {
   "cell_type": "code",
   "execution_count": 12,
   "metadata": {
    "collapsed": false
   },
   "outputs": [
    {
     "name": "stdout",
     "output_type": "stream",
     "text": [
      "[u'trade'] ASIAN EXPORTERS FEAR DAMAGE FROM U . S .- JAPAN RIFT Mounting trade friction between... \n",
      "\n",
      "[u'grain'] CHINA DAILY SAYS VERMIN EAT 7 - 12 PCT GRAIN STOCKS A survey of 19... \n",
      "\n",
      "[u'crude', u'nat-gas'] JAPAN TO REVISE LONG - TERM ENERGY DEMAND DOWNWARDS The Ministry of International Trade and... \n",
      "\n",
      "[u'corn', u'grain', u'rice', u'rubber', u'sugar', u'tin', u'trade'] THAI TRADE DEFICIT WIDENS IN FIRST QUARTER Thailand ' s trade deficit widened to 4... \n",
      "\n",
      "[u'palm-oil', u'veg-oil'] INDONESIA SEES CPO PRICE RISING SHARPLY Indonesia expects crude palm oil ( CPO ) prices... \n",
      "\n"
     ]
    }
   ],
   "source": [
    "import nltk\n",
    "\n",
    "from nltk.corpus import reuters\n",
    "\n",
    "for i in reuters.fileids()[:5]:\n",
    "    print reuters.categories(i), ' '.join(reuters.words(i)[:15]) + '...', '\\n'"
   ]
  },
  {
   "cell_type": "code",
   "execution_count": 13,
   "metadata": {
    "collapsed": false
   },
   "outputs": [
    {
     "name": "stdout",
     "output_type": "stream",
     "text": [
      "90 10788\n"
     ]
    }
   ],
   "source": [
    "print len(reuters.categories()), len(reuters.fileids())"
   ]
  },
  {
   "cell_type": "markdown",
   "metadata": {},
   "source": [
    "That is how most annotated datasets look like at some level. For most supervised, semi-supervised and weakly-supervised tasks, that is the format of the input we will be receiving.\n",
    "\n",
    "However, in NLP (just as in all forms of science and engineering) it is always a good idea to run the same experiment on different datasets to ensure the results we are getting are not simply because of the nature of the data (this is sometimes called an _artifact of the data_, or also __bias__). For purposes of replication and validation, we will be using a second corpus for classification, the [__20 Newsgroups__ corpus](http://qwone.com/~jason/20Newsgroups/).\n",
    "\n",
    "NLTK does not come with built-in support for this particular corpus so we will improvise a class to handle it:"
   ]
  },
  {
   "cell_type": "code",
   "execution_count": 14,
   "metadata": {
    "collapsed": false
   },
   "outputs": [
    {
     "name": "stdout",
     "output_type": "stream",
     "text": [
      "The first document is: \n",
      "\n",
      "[' 1992\\nVersion: 1.0\\n\\n                              Atheist Resources\\n\\n                      Addresses of Atheist Organizations\\n\\n                                     USA\\n\\nFREEDOM FROM RELIGION FOUNDATION\\n\\nDarwin fish bumper stickers and assorted other ...'] \n",
      "\n",
      "\n",
      "The category of the first document is: alt.atheism \n",
      "\n",
      "The number of records for documents, paths, and categories is: 19997, 19997, and 19997\n"
     ]
    }
   ],
   "source": [
    "import os\n",
    "\n",
    "from collections import (\n",
    "    Counter\n",
    ")\n",
    "\n",
    "class SimpleCorpusReader:\n",
    "    def __init__(self, root):\n",
    "        self.root = root\n",
    "        self.documents = []\n",
    "        self.paths = []\n",
    "        self.tags = []\n",
    "        self.tagdist = Counter()\n",
    "        self.__load()\n",
    "    \n",
    "    def __load(self):\n",
    "        for category in os.listdir(self.root):\n",
    "            category_folder = '%s%s' % (self.root, category)\n",
    "            if not os.path.isdir(category_folder):\n",
    "                continue\n",
    "            for document_path in os.listdir(category_folder):\n",
    "                document_path = '%s/%s' % (category_folder, document_path)\n",
    "                text = self.__read(document_path)\n",
    "                self.paths.append(document_path)\n",
    "                self.tags.append(category)\n",
    "                self.documents.append(text)\n",
    "                self.tagdist[category] += 1\n",
    "    \n",
    "    def __read(self, document_path):\n",
    "        with open(document_path, 'rb') as rd:\n",
    "            return ''.join([line for line in rd])\n",
    "\n",
    "        \n",
    "rdr = SimpleCorpusReader('data/20_newsgroups/')\n",
    "print 'The first document is:', '\\n'\n",
    "print [rdr.documents[0][1000:1250] + '...'], '\\n\\n'\n",
    "print 'The category of the first document is:', rdr.tags[0], '\\n'\n",
    "print 'The number of records for documents, paths, and categories is: %d, %d, and %d' % (len(rdr.documents), len(rdr.paths), len(rdr.tags))"
   ]
  },
  {
   "cell_type": "markdown",
   "metadata": {},
   "source": [
    "Luckily, the category matches and all the numbers add up :)\n",
    "\n",
    "Last, for our sentiment analysis experiments we will be using another dataset, which is stored in a tab-separated .csv file (so, a .tsv file really :) For that, we will just use a wrapper over Python's standard .csv parsing library. Our wrapper is in lib.Tools and admits an arbitrary delimiter as a keyword argument, so we can specify the tab as the field separator:"
   ]
  },
  {
   "cell_type": "code",
   "execution_count": 9,
   "metadata": {
    "collapsed": false
   },
   "outputs": [
    {
     "name": "stdout",
     "output_type": "stream",
     "text": [
      "5814_8 | 1 | With all this stuff going down at the moment with MJ i've started listening to h...\n",
      "2381_9 | 1 | \\The Classic War of the Worlds\\\" by Timothy Hines is a very entertaining film th...\n",
      "7759_3 | 0 | The film starts with a manager (Nicholas Bell) giving welcome investors (Robert ...\n",
      "3630_4 | 0 | It must be assumed that those who praised this film (\\the greatest filmed opera ...\n",
      "9495_8 | 1 | Superbly trashy and wondrously unpretentious 80's exploitation, hooray! The pre-...\n",
      "8196_8 | 1 | I dont know why people think this is such a bad movie. Its got a pretty good plo...\n",
      "7166_2 | 0 | This movie could have been very good, but comes up way short. Cheesy special eff...\n",
      "10633_1 | 0 | I watched this video at a friend's house. I'm glad I did not waste money buying ...\n",
      "319_1 | 0 | A friend of mine bought this film for £1, and even then it was grossly overpric...\n",
      "8713_10 | 1 | <br /><br />This movie is full of references. Like \\Mad Max II\\\", \\\"The wild one...\n"
     ]
    }
   ],
   "source": [
    "from lib.Tools import from_csv\n",
    "\n",
    "sentiment_data = list(from_csv('data/labeledTrainData.tsv', delimiter='\\t'))\n",
    "\n",
    "for _id, tag, text in sentiment_data[1:11]:\n",
    "    print '%s | %s | %s...' % (_id, tag, text[:80])\n"
   ]
  },
  {
   "cell_type": "markdown",
   "metadata": {},
   "source": [
    "These look like the records we were looking for :)\n",
    "\n",
    "Before we start getting our hands dirty, it is worth noting that the .tsv and .csv formats are a widespread standard for exporting and importing data and it is always a good idea to design input and output workflows around them.\n",
    "\n",
    "\n",
    "## Summary\n",
    "\n",
    "* It is important to know your data (we will go into more detail in the following sections).\n",
    "* Python class to stream raw text into our algorithm using a generator.\n",
    "* NLTK Corpus Reader class and methods for accessing datasets.\n",
    "* Custom CorpusReader class to parse records belonging to a new dataset.\n",
    "* Standard import from a .csv file.\n",
    "* Raw text vs. annotated data."
   ]
  },
  {
   "cell_type": "code",
   "execution_count": null,
   "metadata": {
    "collapsed": true
   },
   "outputs": [],
   "source": []
  }
 ],
 "metadata": {
  "kernelspec": {
   "display_name": "Python 2",
   "language": "python",
   "name": "python2"
  },
  "language_info": {
   "codemirror_mode": {
    "name": "ipython",
    "version": 2
   },
   "file_extension": ".py",
   "mimetype": "text/x-python",
   "name": "python",
   "nbconvert_exporter": "python",
   "pygments_lexer": "ipython2",
   "version": "2.7.6"
  }
 },
 "nbformat": 4,
 "nbformat_minor": 0
}
