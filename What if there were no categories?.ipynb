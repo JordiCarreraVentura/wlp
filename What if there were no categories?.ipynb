{
 "cells": [
  {
   "cell_type": "markdown",
   "metadata": {},
   "source": [
    "# What if there were no categories?\n",
    "\n",
    "## topic modelling\n",
    "\n",
    "## clustering\n",
    "\n",
    "## knn\n",
    "\n",
    "\n",
    "\n",
    "Next one\n",
    "\n",
    "--- Granville ---\n",
    "Exploring the data\n",
    "Like Vincent Granville’s indexation but with the argmin of the sum of two dimensions: 1.0-normalized frequency percentile rank AND 1.0-normalized current index overlap percentile rank. Then, measure perplexity wrt Vincent Granville’s solution.\n",
    "\n",
    "Classification by indexation (convenient workflow)\n",
    "/Users/jordi/Downloads/References/5-easy-steps-to-structure-highly-unstructured-big-data.html\n",
    "http://www.datasciencecentral.com/profiles/blogs/5-easy-steps-to-structure-highly-unstructured-big-data\n",
    "\n",
    "\n"
   ]
  }
 ],
 "metadata": {
  "kernelspec": {
   "display_name": "Python 2",
   "language": "python",
   "name": "python2"
  },
  "language_info": {
   "codemirror_mode": {
    "name": "ipython",
    "version": 2
   },
   "file_extension": ".py",
   "mimetype": "text/x-python",
   "name": "python",
   "nbconvert_exporter": "python",
   "pygments_lexer": "ipython2",
   "version": "2.7.6"
  }
 },
 "nbformat": 4,
 "nbformat_minor": 0
}
