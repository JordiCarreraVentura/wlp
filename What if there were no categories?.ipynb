{
 "cells": [
  {
   "cell_type": "markdown",
   "metadata": {},
   "source": [
    "# What if there were no categories?\n",
    "\n",
    "> 1. Algorithms will tend to see correlations in the data more easily than we can, which means that, theoretically, they can determine whether two variables are significantly associated more reliably than we can. As long as the __data is clean__, they will find whatever we want them to find. Yet again, another reason to take very seriously our earlier point about knowing the data.\n",
    "\n",
    "Some day, some will come to you and will ask you to build a classifier on unannotated data, or on data so poorly annotated that you will want to create your own annotation. However, that breaks the rules of automation: if you have to write yourself all the texts in a corpus, you do not need the system to tell you what is in them -you would actually know painfully well! XD\n",
    "\n",
    "Do not panic, even in this dark situation you will actually have a few options:\n",
    "\n",
    "1. Topic modelling\n",
    "2. K-nearest-neighbors\n",
    "3. K-means clustering\n",
    "4. Indexation\n",
    "5. Brown clustering (which we already covered)\n",
    "\n",
    "\n",
    "## Topic modelling\n",
    "\n",
    "## K-means clustering\n",
    "\n",
    "## K-nearest neighbors\n",
    "\n",
    "## Indexation\n",
    "\n",
    "--- Granville ---\n",
    "Exploring the data\n",
    "Like Vincent Granville’s indexation but with the argmin of the sum of two dimensions: 1.0-normalized frequency percentile rank AND 1.0-normalized current index overlap percentile rank. Then, measure perplexity wrt Vincent Granville’s solution.\n",
    "\n",
    "Classification by indexation (convenient workflow)\n",
    "/Users/jordi/Downloads/References/5-easy-steps-to-structure-highly-unstructured-big-data.html\n",
    "http://www.datasciencecentral.com/profiles/blogs/5-easy-steps-to-structure-highly-unstructured-big-data\n",
    "\n",
    "\n"
   ]
  }
 ],
 "metadata": {
  "kernelspec": {
   "display_name": "Python 2",
   "language": "python",
   "name": "python2"
  },
  "language_info": {
   "codemirror_mode": {
    "name": "ipython",
    "version": 2
   },
   "file_extension": ".py",
   "mimetype": "text/x-python",
   "name": "python",
   "nbconvert_exporter": "python",
   "pygments_lexer": "ipython2",
   "version": "2.7.6"
  }
 },
 "nbformat": 4,
 "nbformat_minor": 0
}
